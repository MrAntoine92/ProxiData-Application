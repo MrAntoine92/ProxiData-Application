{
 "cells": [
  {
   "cell_type": "code",
   "execution_count": 4,
   "metadata": {
    "ExecuteTime": {
     "end_time": "2024-04-27T13:06:44.144042500Z",
     "start_time": "2024-04-27T13:06:44.023733400Z"
    },
    "collapsed": true
   },
   "outputs": [],
   "source": [
    "import pandas as pd\n",
    "import numpy as np\n",
    "import plotly.graph_objects as go\n",
    "from plotly.colors import n_colors"
   ]
  },
  {
   "cell_type": "markdown",
   "metadata": {
    "collapsed": false
   },
   "source": [
    "# Importation des données"
   ]
  },
  {
   "cell_type": "code",
   "execution_count": 5,
   "metadata": {
    "ExecuteTime": {
     "end_time": "2024-04-27T13:07:00.138039700Z",
     "start_time": "2024-04-27T13:06:44.041789900Z"
    },
    "collapsed": false
   },
   "outputs": [],
   "source": [
    "df = pd.read_excel('Fiches/clean_df.xlsx')"
   ]
  },
  {
   "cell_type": "code",
   "execution_count": 6,
   "metadata": {
    "ExecuteTime": {
     "end_time": "2024-04-27T13:07:00.195791700Z",
     "start_time": "2024-04-27T13:07:00.144038Z"
    },
    "collapsed": false
   },
   "outputs": [
    {
     "name": "stderr",
     "output_type": "stream",
     "text": [
      "C:\\Users\\mrant\\AppData\\Local\\Temp\\ipykernel_16748\\252801793.py:17: SettingWithCopyWarning: \n",
      "A value is trying to be set on a copy of a slice from a DataFrame.\n",
      "Try using .loc[row_indexer,col_indexer] = value instead\n",
      "\n",
      "See the caveats in the documentation: https://pandas.pydata.org/pandas-docs/stable/user_guide/indexing.html#returning-a-view-versus-a-copy\n",
      "  df_year[\"Date\"] = df_year[\"Date\"].astype(int)\n"
     ]
    }
   ],
   "source": [
    "'''\n",
    "On crée une nouvelle variable \"Taux MARGE BRUTE\" qui est le taux de marge brute par rapport au chiffre d'affaire\n",
    "C'est cette variable qui va définir si une agence est performante ou non\n",
    "'''\n",
    "\n",
    "tmp = pd.DataFrame()\n",
    "tmp[\"Taux MARGE BRUTE\"] = 100 * df[\"MARGE BRUTE\"]/df[\"TOTAL CA + Prod Centralisées\"]\n",
    "df = pd.concat([df, tmp], axis=1)\n",
    "df = df[(df[\"Taux MARGE BRUTE\"] < 100) & (df[\"Taux MARGE BRUTE\"] > -100)]\n",
    "\n",
    "\n",
    "'''\n",
    "Création d'un dataset contenant uniquement une ligne par année et par agence\n",
    "'''\n",
    "\n",
    "df_year = df[(df['Date'] > 100) & (df['Type'] ==\"REEL\")]\n",
    "df_year[\"Date\"] = df_year[\"Date\"].astype(int)\n",
    "\n",
    "# Supprimer les doublons de date pour chaque agence\n",
    "df_year = df_year.drop_duplicates(subset=[\"Filtre Agence\", \"Date\"])\n",
    "df_year[\"Date\"] = pd.to_datetime(df_year[\"Date\"], format='%Y')"
   ]
  },
  {
   "cell_type": "markdown",
   "metadata": {
    "collapsed": false
   },
   "source": [
    "### On definit les different groupe d'agences en fonction de leur taux de marge brute"
   ]
  },
  {
   "cell_type": "code",
   "execution_count": 7,
   "metadata": {
    "ExecuteTime": {
     "end_time": "2024-04-27T13:07:00.249432500Z",
     "start_time": "2024-04-27T13:07:00.204868300Z"
    },
    "collapsed": false
   },
   "outputs": [],
   "source": [
    "best_agence = df_year[df_year[\"Date\"]==\"2023-01-01\"].groupby(\"Filtre Agence\")[\"Taux MARGE BRUTE\"].mean().sort_values(ascending=False).head(15)\n",
    "worst_agence = df_year[df_year[\"Date\"]==\"2023-01-01\"].groupby(\"Filtre Agence\")[\"Taux MARGE BRUTE\"].mean().sort_values(ascending=True).head(15)\n",
    "\n",
    "best_agence_BTC = df_year[(df_year[\"Date\"]==\"2023-01-01\") & (df_year[\"ACTIVITE\"]==\"BTC\")].groupby(\"Filtre Agence\")[\"Taux MARGE BRUTE\"].mean().sort_values(ascending=False).head(15)\n",
    "worst_agence_BTC = df_year[(df_year[\"Date\"]==\"2023-01-01\") & (df_year[\"ACTIVITE\"]==\"BTC\")].groupby(\"Filtre Agence\")[\"Taux MARGE BRUTE\"].mean().sort_values(ascending=True).head(15)\n",
    "best_agence_BTB = df_year[(df_year[\"Date\"]==\"2023-01-01\") & (df_year[\"ACTIVITE\"]==\"BTB\")].groupby(\"Filtre Agence\")[\"Taux MARGE BRUTE\"].mean().sort_values(ascending=False).head(15)\n",
    "worst_agence_BTB = df_year[(df_year[\"Date\"]==\"2023-01-01\") & (df_year[\"ACTIVITE\"]==\"BTB\")].groupby(\"Filtre Agence\")[\"Taux MARGE BRUTE\"].mean().sort_values(ascending=True).head(15)"
   ]
  },
  {
   "cell_type": "markdown",
   "metadata": {
    "collapsed": false
   },
   "source": [
    "On choisit les colonnes que l'on va utiliser"
   ]
  },
  {
   "cell_type": "code",
   "execution_count": 8,
   "metadata": {
    "ExecuteTime": {
     "end_time": "2024-04-27T13:07:00.257962900Z",
     "start_time": "2024-04-27T13:07:00.224386800Z"
    },
    "collapsed": false
   },
   "outputs": [],
   "source": [
    "cols = [\"CA Contrats Collectif\",\"ETP EFFECTIF Exploitation (Présence)\",\"Nbre de véhicules Exploitation\",\n",
    "        \"TOTAL AUTRES COUTS_1\",\"TOTAL FRAIS GENERAUX_1\",\"ETP Chef Agence\",\"ETP Responsable Exploitation\",\"ETP Secrétaire/Assitant(e) Agence\",\n",
    "        \"ETP EFFECTIF Agence (Présence)\",\"TOTAL VEHICULES_2\",\"TOTAL AUTRES COUTS_2\",\"TOTAL FRAIS GENERAUX_2\",\n",
    "        \"Nombre de Tech. moyen par Chef Equipe\",\"Nombre de Tech. moyen par Magasinier\",\"Nombre de Techniciens par Secrétaire\"]"
   ]
  },
  {
   "cell_type": "markdown",
   "metadata": {
    "collapsed": false
   },
   "source": [
    "### On normalise les données en % du chiffre d'affaires"
   ]
  },
  {
   "cell_type": "code",
   "execution_count": 9,
   "metadata": {
    "ExecuteTime": {
     "end_time": "2024-04-27T13:07:00.269190300Z",
     "start_time": "2024-04-27T13:07:00.236917900Z"
    },
    "collapsed": false
   },
   "outputs": [],
   "source": [
    "norm = df[cols+[\"TOTAL CA + Prod Centralisées\",\"Filtre Agence\"]].copy()\n",
    "\n",
    "norm[\"% CA Contrat Collectif\"] = norm[\"CA Contrats Collectif\"]/norm[\"TOTAL CA + Prod Centralisées\"]\n",
    "norm.drop(columns=[\"CA Contrats Collectif\"], inplace=True)\n",
    "\n",
    "norm[\"% ETP EFFECTIF Exploitation (Présence)\"] = norm[\"ETP EFFECTIF Exploitation (Présence)\"]/norm[\"TOTAL CA + Prod Centralisées\"]\n",
    "norm.drop(columns=[\"ETP EFFECTIF Exploitation (Présence)\"], inplace=True)\n",
    "\n",
    "norm[\"% Nbre de véhicules Exploitation\"] = norm[\"Nbre de véhicules Exploitation\"]/norm[\"TOTAL CA + Prod Centralisées\"]\n",
    "norm.drop(columns=[\"Nbre de véhicules Exploitation\"], inplace=True)\n",
    "\n",
    "norm[\"% TOTAL AUTRES COUTS_1\"] = norm[\"TOTAL AUTRES COUTS_1\"]/norm[\"TOTAL CA + Prod Centralisées\"]\n",
    "norm.drop(columns=[\"TOTAL AUTRES COUTS_1\"], inplace=True)\n",
    "\n",
    "norm[\"% TOTAL FRAIS GENERAUX_1\"] = norm[\"TOTAL FRAIS GENERAUX_1\"]/norm[\"TOTAL CA + Prod Centralisées\"]\n",
    "norm.drop(columns=[\"TOTAL FRAIS GENERAUX_1\"], inplace=True)\n",
    "\n",
    "norm[\"% ETP Chef Agence\"] = norm[\"ETP Chef Agence\"]/norm[\"TOTAL CA + Prod Centralisées\"]\n",
    "norm.drop(columns=[\"ETP Chef Agence\"], inplace=True)\n",
    "\n",
    "norm[\"% ETP Responsable Exploitation\"] = norm[\"ETP Responsable Exploitation\"]/norm[\"TOTAL CA + Prod Centralisées\"]\n",
    "norm.drop(columns=[\"ETP Responsable Exploitation\"], inplace=True)\n",
    "\n",
    "norm[\"% ETP Secrétaire/Assitant(e) Agence\"] = norm[\"ETP Secrétaire/Assitant(e) Agence\"]/norm[\"TOTAL CA + Prod Centralisées\"]\n",
    "norm.drop(columns=[\"ETP Secrétaire/Assitant(e) Agence\"], inplace=True)\n",
    "\n",
    "norm[\"% ETP EFFECTIF Agence (Présence)\"] = norm[\"ETP EFFECTIF Agence (Présence)\"]/norm[\"TOTAL CA + Prod Centralisées\"]\n",
    "norm.drop(columns=[\"ETP EFFECTIF Agence (Présence)\"], inplace=True)\n",
    "\n",
    "norm[\"% TOTAL VEHICULES_2\"] = norm[\"TOTAL VEHICULES_2\"]/norm[\"TOTAL CA + Prod Centralisées\"]\n",
    "norm.drop(columns=[\"TOTAL VEHICULES_2\"], inplace=True)\n",
    "\n",
    "norm[\"% TOTAL AUTRES COUTS_2\"] = norm[\"TOTAL AUTRES COUTS_2\"]/norm[\"TOTAL CA + Prod Centralisées\"]\n",
    "norm.drop(columns=[\"TOTAL AUTRES COUTS_2\"], inplace=True)\n",
    "\n",
    "norm[\"% TOTAL FRAIS GENERAUX_2\"] = norm[\"TOTAL FRAIS GENERAUX_2\"]/norm[\"TOTAL CA + Prod Centralisées\"]\n",
    "norm.drop(columns=[\"TOTAL FRAIS GENERAUX_2\"], inplace=True)\n",
    "\n",
    "norm.drop(columns=\"TOTAL CA + Prod Centralisées\", inplace=True)"
   ]
  },
  {
   "cell_type": "code",
   "execution_count": 13,
   "metadata": {},
   "outputs": [],
   "source": [
    "norm.to_excel(\"Fiches/norm.xlsx\", index=False)"
   ]
  },
  {
   "cell_type": "markdown",
   "metadata": {
    "collapsed": false
   },
   "source": [
    "### On met les données des meilleures agences et celles de l'agence choisie dans un dataframe"
   ]
  },
  {
   "cell_type": "code",
   "execution_count": 10,
   "metadata": {
    "ExecuteTime": {
     "end_time": "2024-04-27T13:07:00.312597500Z",
     "start_time": "2024-04-27T13:07:00.264169500Z"
    },
    "collapsed": false
   },
   "outputs": [
    {
     "data": {
      "text/plain": [
       "Nombre de Tech. moyen par Chef Equipe     5.885837\n",
       "Nombre de Tech. moyen par Magasinier      9.428633\n",
       "Nombre de Techniciens par Secrétaire      3.244560\n",
       "% CA Contrat Collectif                    0.025758\n",
       "% ETP EFFECTIF Exploitation (Présence)    0.056149\n",
       "% Nbre de véhicules Exploitation          0.061156\n",
       "% TOTAL AUTRES COUTS_1                   -0.016524\n",
       "% TOTAL FRAIS GENERAUX_1                 -0.006911\n",
       "% ETP Chef Agence                         0.004192\n",
       "% ETP Responsable Exploitation            0.000112\n",
       "% ETP Secrétaire/Assitant(e) Agence       0.016481\n",
       "% ETP EFFECTIF Agence (Présence)          0.020786\n",
       "% TOTAL VEHICULES_2                      -0.002694\n",
       "% TOTAL AUTRES COUTS_2                   -0.003717\n",
       "% TOTAL FRAIS GENERAUX_2                 -0.065743\n",
       "Name: Meilleures agences, dtype: float64"
      ]
     },
     "execution_count": 10,
     "metadata": {},
     "output_type": "execute_result"
    }
   ],
   "source": [
    "# Choisir le filtre de l'agence\n",
    "filtre_agence = \"6A-TOUPERS\"\n",
    "\n",
    "\n",
    "nom_agence = df[df[\"Filtre Agence\"]==filtre_agence][\"AGENCE\"].iloc[0]\n",
    "tab_agence = norm[norm[\"Filtre Agence\"]==filtre_agence].drop(columns=[\"Filtre Agence\"]).mean()\n",
    "tab_agence.rename(nom_agence, inplace=True)\n",
    "\n",
    "tab_best_BTC = norm[norm[\"Filtre Agence\"].isin(best_agence_BTC.index)].drop(columns=[\"Filtre Agence\"]).mean()\n",
    "tab_best_BTB = norm[norm[\"Filtre Agence\"].isin(best_agence_BTB.index)].drop(columns=[\"Filtre Agence\"]).mean()\n",
    "\n",
    "tab_best_BTB.rename(\"Meilleures agences\", inplace=True)\n",
    "tab_best_BTC.rename(\"Meilleures agences\", inplace=True)"
   ]
  },
  {
   "cell_type": "code",
   "execution_count": 11,
   "metadata": {
    "ExecuteTime": {
     "end_time": "2024-04-27T13:07:00.315020100Z",
     "start_time": "2024-04-27T13:07:00.292270400Z"
    },
    "collapsed": false
   },
   "outputs": [
    {
     "name": "stdout",
     "output_type": "stream",
     "text": [
      "Agence BTB\n"
     ]
    }
   ],
   "source": [
    "if df[df[\"Filtre Agence\"]==filtre_agence][\"ACTIVITE\"].iloc[0] == \"BTC\":\n",
    "    print(\"Agence BTC\")\n",
    "    tab_best = tab_best_BTC\n",
    "else:\n",
    "    print(\"Agence BTB\")\n",
    "    tab_best = tab_best_BTB\n",
    "\n",
    "tab = pd.concat([tab_agence,tab_best], axis=1)\n",
    "tab.index.name = \"KPIs\"\n",
    "for i in range(3,tab.shape[0]):\n",
    "    tab.iloc[i] = (tab.iloc[i] * 100)\n",
    "tab = tab.round(3)\n",
    "tab.reset_index(inplace=True)"
   ]
  },
  {
   "cell_type": "markdown",
   "metadata": {
    "collapsed": false
   },
   "source": [
    "### Affichage du tableau de comparaison"
   ]
  },
  {
   "cell_type": "code",
   "execution_count": 12,
   "metadata": {
    "ExecuteTime": {
     "end_time": "2024-04-27T13:07:00.388631300Z",
     "start_time": "2024-04-27T13:07:00.307600300Z"
    },
    "collapsed": false
   },
   "outputs": [
    {
     "data": {
      "application/vnd.plotly.v1+json": {
       "config": {
        "plotlyServerURL": "https://plot.ly"
       },
       "data": [
        {
         "cells": {
          "align": "left",
          "fill": {
           "color": [
            "lavender",
            [
             "rgb(229.0, 31.0, 31.0)",
             "rgb(247.0, 227.0, 121.0)",
             "rgb(68.0, 206.0, 27.0)",
             "rgb(68.0, 206.0, 27.0)",
             "rgb(68.0, 206.0, 27.0)",
             "rgb(68.0, 206.0, 27.0)",
             "rgb(217.0, 223.0, 94.5)",
             "rgb(68.0, 206.0, 27.0)",
             "rgb(68.0, 206.0, 27.0)",
             "rgb(244.5, 194.0, 86.5)",
             "rgb(127.5, 212.5, 47.5)",
             "rgb(68.0, 206.0, 27.0)",
             "rgb(217.0, 223.0, 94.5)",
             "rgb(242.0, 161.0, 52.0)",
             "rgb(127.5, 212.5, 47.5)"
            ],
            "lavender"
           ]
          },
          "line": {
           "color": "white",
           "width": 0.01
          },
          "values": [
           [
            "Nombre de Tech. moyen par Chef Equipe",
            "Nombre de Tech. moyen par Magasinier",
            "Nombre de Techniciens par Secrétaire",
            "% CA Contrat Collectif",
            "% ETP EFFECTIF Exploitation (Présence)",
            "% Nbre de véhicules Exploitation",
            "% TOTAL AUTRES COUTS_1",
            "% TOTAL FRAIS GENERAUX_1",
            "% ETP Chef Agence",
            "% ETP Responsable Exploitation",
            "% ETP Secrétaire/Assitant(e) Agence",
            "% ETP EFFECTIF Agence (Présence)",
            "% TOTAL VEHICULES_2",
            "% TOTAL AUTRES COUTS_2",
            "% TOTAL FRAIS GENERAUX_2"
           ],
           [
            28.249,
            15.787,
            6.595,
            80.184,
            5.442,
            7.092,
            -1.53,
            -1.225,
            0.227,
            0.042,
            0.839,
            1.109,
            -0.272,
            -0.197,
            -3.793
           ],
           [
            12.742,
            34.382,
            6.437,
            71.459,
            5.714,
            7.038,
            -2.996,
            -1.255,
            0.223,
            0.147,
            0.723,
            1.092,
            -0.479,
            -1.371,
            -3.221
           ]
          ]
         },
         "header": {
          "align": "left",
          "fill": {
           "color": "paleturquoise"
          },
          "values": [
           "KPIs",
           "Perpignan",
           "Meilleures agences"
          ]
         },
         "type": "table"
        }
       ],
       "layout": {
        "height": 600,
        "template": {
         "data": {
          "bar": [
           {
            "error_x": {
             "color": "#2a3f5f"
            },
            "error_y": {
             "color": "#2a3f5f"
            },
            "marker": {
             "line": {
              "color": "white",
              "width": 0.5
             },
             "pattern": {
              "fillmode": "overlay",
              "size": 10,
              "solidity": 0.2
             }
            },
            "type": "bar"
           }
          ],
          "barpolar": [
           {
            "marker": {
             "line": {
              "color": "white",
              "width": 0.5
             },
             "pattern": {
              "fillmode": "overlay",
              "size": 10,
              "solidity": 0.2
             }
            },
            "type": "barpolar"
           }
          ],
          "carpet": [
           {
            "aaxis": {
             "endlinecolor": "#2a3f5f",
             "gridcolor": "#C8D4E3",
             "linecolor": "#C8D4E3",
             "minorgridcolor": "#C8D4E3",
             "startlinecolor": "#2a3f5f"
            },
            "baxis": {
             "endlinecolor": "#2a3f5f",
             "gridcolor": "#C8D4E3",
             "linecolor": "#C8D4E3",
             "minorgridcolor": "#C8D4E3",
             "startlinecolor": "#2a3f5f"
            },
            "type": "carpet"
           }
          ],
          "choropleth": [
           {
            "colorbar": {
             "outlinewidth": 0,
             "ticks": ""
            },
            "type": "choropleth"
           }
          ],
          "contour": [
           {
            "colorbar": {
             "outlinewidth": 0,
             "ticks": ""
            },
            "colorscale": [
             [
              0,
              "#0d0887"
             ],
             [
              0.1111111111111111,
              "#46039f"
             ],
             [
              0.2222222222222222,
              "#7201a8"
             ],
             [
              0.3333333333333333,
              "#9c179e"
             ],
             [
              0.4444444444444444,
              "#bd3786"
             ],
             [
              0.5555555555555556,
              "#d8576b"
             ],
             [
              0.6666666666666666,
              "#ed7953"
             ],
             [
              0.7777777777777778,
              "#fb9f3a"
             ],
             [
              0.8888888888888888,
              "#fdca26"
             ],
             [
              1,
              "#f0f921"
             ]
            ],
            "type": "contour"
           }
          ],
          "contourcarpet": [
           {
            "colorbar": {
             "outlinewidth": 0,
             "ticks": ""
            },
            "type": "contourcarpet"
           }
          ],
          "heatmap": [
           {
            "colorbar": {
             "outlinewidth": 0,
             "ticks": ""
            },
            "colorscale": [
             [
              0,
              "#0d0887"
             ],
             [
              0.1111111111111111,
              "#46039f"
             ],
             [
              0.2222222222222222,
              "#7201a8"
             ],
             [
              0.3333333333333333,
              "#9c179e"
             ],
             [
              0.4444444444444444,
              "#bd3786"
             ],
             [
              0.5555555555555556,
              "#d8576b"
             ],
             [
              0.6666666666666666,
              "#ed7953"
             ],
             [
              0.7777777777777778,
              "#fb9f3a"
             ],
             [
              0.8888888888888888,
              "#fdca26"
             ],
             [
              1,
              "#f0f921"
             ]
            ],
            "type": "heatmap"
           }
          ],
          "heatmapgl": [
           {
            "colorbar": {
             "outlinewidth": 0,
             "ticks": ""
            },
            "colorscale": [
             [
              0,
              "#0d0887"
             ],
             [
              0.1111111111111111,
              "#46039f"
             ],
             [
              0.2222222222222222,
              "#7201a8"
             ],
             [
              0.3333333333333333,
              "#9c179e"
             ],
             [
              0.4444444444444444,
              "#bd3786"
             ],
             [
              0.5555555555555556,
              "#d8576b"
             ],
             [
              0.6666666666666666,
              "#ed7953"
             ],
             [
              0.7777777777777778,
              "#fb9f3a"
             ],
             [
              0.8888888888888888,
              "#fdca26"
             ],
             [
              1,
              "#f0f921"
             ]
            ],
            "type": "heatmapgl"
           }
          ],
          "histogram": [
           {
            "marker": {
             "pattern": {
              "fillmode": "overlay",
              "size": 10,
              "solidity": 0.2
             }
            },
            "type": "histogram"
           }
          ],
          "histogram2d": [
           {
            "colorbar": {
             "outlinewidth": 0,
             "ticks": ""
            },
            "colorscale": [
             [
              0,
              "#0d0887"
             ],
             [
              0.1111111111111111,
              "#46039f"
             ],
             [
              0.2222222222222222,
              "#7201a8"
             ],
             [
              0.3333333333333333,
              "#9c179e"
             ],
             [
              0.4444444444444444,
              "#bd3786"
             ],
             [
              0.5555555555555556,
              "#d8576b"
             ],
             [
              0.6666666666666666,
              "#ed7953"
             ],
             [
              0.7777777777777778,
              "#fb9f3a"
             ],
             [
              0.8888888888888888,
              "#fdca26"
             ],
             [
              1,
              "#f0f921"
             ]
            ],
            "type": "histogram2d"
           }
          ],
          "histogram2dcontour": [
           {
            "colorbar": {
             "outlinewidth": 0,
             "ticks": ""
            },
            "colorscale": [
             [
              0,
              "#0d0887"
             ],
             [
              0.1111111111111111,
              "#46039f"
             ],
             [
              0.2222222222222222,
              "#7201a8"
             ],
             [
              0.3333333333333333,
              "#9c179e"
             ],
             [
              0.4444444444444444,
              "#bd3786"
             ],
             [
              0.5555555555555556,
              "#d8576b"
             ],
             [
              0.6666666666666666,
              "#ed7953"
             ],
             [
              0.7777777777777778,
              "#fb9f3a"
             ],
             [
              0.8888888888888888,
              "#fdca26"
             ],
             [
              1,
              "#f0f921"
             ]
            ],
            "type": "histogram2dcontour"
           }
          ],
          "mesh3d": [
           {
            "colorbar": {
             "outlinewidth": 0,
             "ticks": ""
            },
            "type": "mesh3d"
           }
          ],
          "parcoords": [
           {
            "line": {
             "colorbar": {
              "outlinewidth": 0,
              "ticks": ""
             }
            },
            "type": "parcoords"
           }
          ],
          "pie": [
           {
            "automargin": true,
            "type": "pie"
           }
          ],
          "scatter": [
           {
            "fillpattern": {
             "fillmode": "overlay",
             "size": 10,
             "solidity": 0.2
            },
            "type": "scatter"
           }
          ],
          "scatter3d": [
           {
            "line": {
             "colorbar": {
              "outlinewidth": 0,
              "ticks": ""
             }
            },
            "marker": {
             "colorbar": {
              "outlinewidth": 0,
              "ticks": ""
             }
            },
            "type": "scatter3d"
           }
          ],
          "scattercarpet": [
           {
            "marker": {
             "colorbar": {
              "outlinewidth": 0,
              "ticks": ""
             }
            },
            "type": "scattercarpet"
           }
          ],
          "scattergeo": [
           {
            "marker": {
             "colorbar": {
              "outlinewidth": 0,
              "ticks": ""
             }
            },
            "type": "scattergeo"
           }
          ],
          "scattergl": [
           {
            "marker": {
             "colorbar": {
              "outlinewidth": 0,
              "ticks": ""
             }
            },
            "type": "scattergl"
           }
          ],
          "scattermapbox": [
           {
            "marker": {
             "colorbar": {
              "outlinewidth": 0,
              "ticks": ""
             }
            },
            "type": "scattermapbox"
           }
          ],
          "scatterpolar": [
           {
            "marker": {
             "colorbar": {
              "outlinewidth": 0,
              "ticks": ""
             }
            },
            "type": "scatterpolar"
           }
          ],
          "scatterpolargl": [
           {
            "marker": {
             "colorbar": {
              "outlinewidth": 0,
              "ticks": ""
             }
            },
            "type": "scatterpolargl"
           }
          ],
          "scatterternary": [
           {
            "marker": {
             "colorbar": {
              "outlinewidth": 0,
              "ticks": ""
             }
            },
            "type": "scatterternary"
           }
          ],
          "surface": [
           {
            "colorbar": {
             "outlinewidth": 0,
             "ticks": ""
            },
            "colorscale": [
             [
              0,
              "#0d0887"
             ],
             [
              0.1111111111111111,
              "#46039f"
             ],
             [
              0.2222222222222222,
              "#7201a8"
             ],
             [
              0.3333333333333333,
              "#9c179e"
             ],
             [
              0.4444444444444444,
              "#bd3786"
             ],
             [
              0.5555555555555556,
              "#d8576b"
             ],
             [
              0.6666666666666666,
              "#ed7953"
             ],
             [
              0.7777777777777778,
              "#fb9f3a"
             ],
             [
              0.8888888888888888,
              "#fdca26"
             ],
             [
              1,
              "#f0f921"
             ]
            ],
            "type": "surface"
           }
          ],
          "table": [
           {
            "cells": {
             "fill": {
              "color": "#EBF0F8"
             },
             "line": {
              "color": "white"
             }
            },
            "header": {
             "fill": {
              "color": "#C8D4E3"
             },
             "line": {
              "color": "white"
             }
            },
            "type": "table"
           }
          ]
         },
         "layout": {
          "annotationdefaults": {
           "arrowcolor": "#2a3f5f",
           "arrowhead": 0,
           "arrowwidth": 1
          },
          "autotypenumbers": "strict",
          "coloraxis": {
           "colorbar": {
            "outlinewidth": 0,
            "ticks": ""
           }
          },
          "colorscale": {
           "diverging": [
            [
             0,
             "#8e0152"
            ],
            [
             0.1,
             "#c51b7d"
            ],
            [
             0.2,
             "#de77ae"
            ],
            [
             0.3,
             "#f1b6da"
            ],
            [
             0.4,
             "#fde0ef"
            ],
            [
             0.5,
             "#f7f7f7"
            ],
            [
             0.6,
             "#e6f5d0"
            ],
            [
             0.7,
             "#b8e186"
            ],
            [
             0.8,
             "#7fbc41"
            ],
            [
             0.9,
             "#4d9221"
            ],
            [
             1,
             "#276419"
            ]
           ],
           "sequential": [
            [
             0,
             "#0d0887"
            ],
            [
             0.1111111111111111,
             "#46039f"
            ],
            [
             0.2222222222222222,
             "#7201a8"
            ],
            [
             0.3333333333333333,
             "#9c179e"
            ],
            [
             0.4444444444444444,
             "#bd3786"
            ],
            [
             0.5555555555555556,
             "#d8576b"
            ],
            [
             0.6666666666666666,
             "#ed7953"
            ],
            [
             0.7777777777777778,
             "#fb9f3a"
            ],
            [
             0.8888888888888888,
             "#fdca26"
            ],
            [
             1,
             "#f0f921"
            ]
           ],
           "sequentialminus": [
            [
             0,
             "#0d0887"
            ],
            [
             0.1111111111111111,
             "#46039f"
            ],
            [
             0.2222222222222222,
             "#7201a8"
            ],
            [
             0.3333333333333333,
             "#9c179e"
            ],
            [
             0.4444444444444444,
             "#bd3786"
            ],
            [
             0.5555555555555556,
             "#d8576b"
            ],
            [
             0.6666666666666666,
             "#ed7953"
            ],
            [
             0.7777777777777778,
             "#fb9f3a"
            ],
            [
             0.8888888888888888,
             "#fdca26"
            ],
            [
             1,
             "#f0f921"
            ]
           ]
          },
          "colorway": [
           "#636efa",
           "#EF553B",
           "#00cc96",
           "#ab63fa",
           "#FFA15A",
           "#19d3f3",
           "#FF6692",
           "#B6E880",
           "#FF97FF",
           "#FECB52"
          ],
          "font": {
           "color": "#2a3f5f"
          },
          "geo": {
           "bgcolor": "white",
           "lakecolor": "white",
           "landcolor": "white",
           "showlakes": true,
           "showland": true,
           "subunitcolor": "#C8D4E3"
          },
          "hoverlabel": {
           "align": "left"
          },
          "hovermode": "closest",
          "mapbox": {
           "style": "light"
          },
          "paper_bgcolor": "white",
          "plot_bgcolor": "white",
          "polar": {
           "angularaxis": {
            "gridcolor": "#EBF0F8",
            "linecolor": "#EBF0F8",
            "ticks": ""
           },
           "bgcolor": "white",
           "radialaxis": {
            "gridcolor": "#EBF0F8",
            "linecolor": "#EBF0F8",
            "ticks": ""
           }
          },
          "scene": {
           "xaxis": {
            "backgroundcolor": "white",
            "gridcolor": "#DFE8F3",
            "gridwidth": 2,
            "linecolor": "#EBF0F8",
            "showbackground": true,
            "ticks": "",
            "zerolinecolor": "#EBF0F8"
           },
           "yaxis": {
            "backgroundcolor": "white",
            "gridcolor": "#DFE8F3",
            "gridwidth": 2,
            "linecolor": "#EBF0F8",
            "showbackground": true,
            "ticks": "",
            "zerolinecolor": "#EBF0F8"
           },
           "zaxis": {
            "backgroundcolor": "white",
            "gridcolor": "#DFE8F3",
            "gridwidth": 2,
            "linecolor": "#EBF0F8",
            "showbackground": true,
            "ticks": "",
            "zerolinecolor": "#EBF0F8"
           }
          },
          "shapedefaults": {
           "line": {
            "color": "#2a3f5f"
           }
          },
          "ternary": {
           "aaxis": {
            "gridcolor": "#DFE8F3",
            "linecolor": "#A2B1C6",
            "ticks": ""
           },
           "baxis": {
            "gridcolor": "#DFE8F3",
            "linecolor": "#A2B1C6",
            "ticks": ""
           },
           "bgcolor": "white",
           "caxis": {
            "gridcolor": "#DFE8F3",
            "linecolor": "#A2B1C6",
            "ticks": ""
           }
          },
          "title": {
           "x": 0.05
          },
          "xaxis": {
           "automargin": true,
           "gridcolor": "#EBF0F8",
           "linecolor": "#EBF0F8",
           "ticks": "",
           "title": {
            "standoff": 15
           },
           "zerolinecolor": "#EBF0F8",
           "zerolinewidth": 2
          },
          "yaxis": {
           "automargin": true,
           "gridcolor": "#EBF0F8",
           "linecolor": "#EBF0F8",
           "ticks": "",
           "title": {
            "standoff": 15
           },
           "zerolinecolor": "#EBF0F8",
           "zerolinewidth": 2
          }
         }
        },
        "width": 1000
       }
      }
     },
     "metadata": {},
     "output_type": "display_data"
    }
   ],
   "source": [
    "ecart = np.abs((tab['Meilleures agences']-tab[nom_agence])/tab['Meilleures agences'])*8\n",
    "ecart[ecart>8] = 8\n",
    "\n",
    "color_scale = [n_colors('rgb(68,206,27)', 'rgb(187,219,68)', 3, colortype='rgb')+\n",
    "               n_colors('rgb(187,219,68)', 'rgb(247,227,121)', 3, colortype='rgb')[1:]+\n",
    "               n_colors('rgb(247,227,121)', 'rgb(242,161,52)', 3, colortype='rgb')[1:]+\n",
    "               n_colors('rgb(242,161,52)', 'rgb(229,31,31)', 3, colortype='rgb')[1:]\n",
    "               ][0]\n",
    "colors = [color_scale[int(i)] for i in ecart]\n",
    "\n",
    "# Create the Plotly table\n",
    "fig = go.Figure(data=[go.Table(\n",
    "    header=dict(values=tab.columns.tolist(),\n",
    "                fill_color='paleturquoise',\n",
    "                align='left'),\n",
    "    cells=dict(values=[tab[\"KPIs\"], tab[nom_agence], tab['Meilleures agences']],\n",
    "               fill_color=['lavender', colors, 'lavender'], # apply the color array to the second column\n",
    "               align='left',\n",
    "               line=dict(color='white', width=0.01)\n",
    "               ))\n",
    "])\n",
    "\n",
    "config = {'staticPlot': True}\n",
    "fig.update_layout(template=\"plotly_white\")\n",
    "fig.update_layout(width=1000, height=600)\n",
    "fig.show()"
   ]
  }
 ],
 "metadata": {
  "kernelspec": {
   "display_name": "Python 3",
   "language": "python",
   "name": "python3"
  },
  "language_info": {
   "codemirror_mode": {
    "name": "ipython",
    "version": 3
   },
   "file_extension": ".py",
   "mimetype": "text/x-python",
   "name": "python",
   "nbconvert_exporter": "python",
   "pygments_lexer": "ipython3",
   "version": "3.12.3"
  }
 },
 "nbformat": 4,
 "nbformat_minor": 0
}
